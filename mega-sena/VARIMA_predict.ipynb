{
 "cells": [
  {
   "cell_type": "code",
   "execution_count": 5,
   "metadata": {},
   "outputs": [],
   "source": [
    "from darts.models import VARIMA\n",
    "from process_data import *\n",
    "\n",
    "series = process_file_to_series('data.txt')"
   ]
  },
  {
   "cell_type": "code",
   "execution_count": 12,
   "metadata": {},
   "outputs": [],
   "source": [
    "model = VARIMA(p=1, d=0, q=0)\n",
    "model.fit(series)\n",
    "\n",
    "numbers_to_predict = 1"
   ]
  },
  {
   "cell_type": "code",
   "execution_count": 13,
   "metadata": {},
   "outputs": [
    {
     "name": "stdout",
     "output_type": "stream",
     "text": [
      "Previsão dos próximos cinco números da loteria: [[ 7.76511029 15.81984484 23.89824361 31.75745624 39.40423815 47.14819616]]\n"
     ]
    }
   ],
   "source": [
    "forecast = model.predict(n=numbers_to_predict)\n",
    "\n",
    "print('Previsão dos próximos cinco números da loteria:', forecast.values())"
   ]
  }
 ],
 "metadata": {
  "kernelspec": {
   "display_name": ".venv",
   "language": "python",
   "name": "python3"
  },
  "language_info": {
   "codemirror_mode": {
    "name": "ipython",
    "version": 3
   },
   "file_extension": ".py",
   "mimetype": "text/x-python",
   "name": "python",
   "nbconvert_exporter": "python",
   "pygments_lexer": "ipython3",
   "version": "3.12.3"
  }
 },
 "nbformat": 4,
 "nbformat_minor": 2
}
